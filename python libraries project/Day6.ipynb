{
 "cells": [
  {
   "cell_type": "markdown",
   "id": "ab3d00c9-0252-487c-84d7-98636b99bc33",
   "metadata": {},
   "source": [
    "# Day 6"
   ]
  },
  {
   "cell_type": "markdown",
   "id": "165b4b5d-2b3f-4949-a27f-b73ed5bd7ad8",
   "metadata": {},
   "source": [
    "# user defined function"
   ]
  },
  {
   "cell_type": "code",
   "execution_count": 3,
   "id": "6dd4bd8b-7052-4c32-9932-2ca845246bf9",
   "metadata": {},
   "outputs": [],
   "source": [
    "def my_func():\n",
    "    print(\"hey how are u\")\n",
    "    print(\"we are learning python\")"
   ]
  },
  {
   "cell_type": "code",
   "execution_count": 5,
   "id": "a3642939-76dc-4a4f-be51-e63f1ec333f0",
   "metadata": {},
   "outputs": [
    {
     "name": "stdout",
     "output_type": "stream",
     "text": [
      "hey how are u\n",
      "we are learning python\n"
     ]
    }
   ],
   "source": [
    "my_func()"
   ]
  },
  {
   "cell_type": "markdown",
   "id": "8d6f1459-6fe0-45b9-a289-b6ba2c2e8a6c",
   "metadata": {},
   "source": [
    "# make the result of  student"
   ]
  },
  {
   "cell_type": "code",
   "execution_count": 7,
   "id": "18139d37-3232-4c2b-b9a0-b0ca51d3e408",
   "metadata": {},
   "outputs": [],
   "source": [
    "def contact():\n",
    "    print(\"contact detail of the school\")\n",
    "    print(\"Delhi public school\")\n",
    "    print(\"banglore, karnatak\")\n",
    "    print(\"9859433565\")\n",
    "    print(\"contact@gmail.com\")    "
   ]
  },
  {
   "cell_type": "code",
   "execution_count": 9,
   "id": "51fd8b04-afff-488c-b0e7-cdbe6319c261",
   "metadata": {},
   "outputs": [
    {
     "name": "stdin",
     "output_type": "stream",
     "text": [
      "Name of the student shacbt\n",
      "enter the marks of maths 54\n",
      "enter the marks of science 5\n",
      "enter the marks of social science 76\n"
     ]
    },
    {
     "name": "stdout",
     "output_type": "stream",
     "text": [
      "\n",
      "contact detail of the school\n",
      "Delhi public school\n",
      "banglore, karnatak\n",
      "9859433565\n",
      "contact@gmail.com\n"
     ]
    },
    {
     "name": "stdin",
     "output_type": "stream",
     "text": [
      "Name of the student sdg;o;jhg\n",
      "enter the marks of maths 546\n",
      "enter the marks of science \n",
      "enter the marks of social science 34\n"
     ]
    },
    {
     "name": "stdout",
     "output_type": "stream",
     "text": [
      "\n",
      "contact detail of the school\n",
      "Delhi public school\n",
      "banglore, karnatak\n",
      "9859433565\n",
      "contact@gmail.com\n"
     ]
    },
    {
     "name": "stdin",
     "output_type": "stream",
     "text": [
      "Name of the student sdgds\n",
      "enter the marks of maths 3\n",
      "enter the marks of science 54\n",
      "enter the marks of social science 6\n"
     ]
    },
    {
     "name": "stdout",
     "output_type": "stream",
     "text": [
      "\n",
      "contact detail of the school\n",
      "Delhi public school\n",
      "banglore, karnatak\n",
      "9859433565\n",
      "contact@gmail.com\n"
     ]
    }
   ],
   "source": [
    "for i in range(3):\n",
    "    a = input(\"Name of the student\")\n",
    "    b = int(input(\"enter the marks of maths\"))\n",
    "    c = input(\"enter the marks of science\")\n",
    "    d = input(\"enter the marks of social science\")\n",
    "    print()\n",
    "    contact()"
   ]
  },
  {
   "cell_type": "markdown",
   "id": "aba15467-ccc7-424b-9841-eac4aeacad29",
   "metadata": {},
   "source": [
    "# passing arguement in function"
   ]
  },
  {
   "cell_type": "code",
   "execution_count": 13,
   "id": "48e0db7e-5144-426b-93f3-75f8b71d6d7c",
   "metadata": {},
   "outputs": [],
   "source": [
    "def my_func(fname):\n",
    "    print(fname+\" \"+\"sharma\")"
   ]
  },
  {
   "cell_type": "code",
   "execution_count": 19,
   "id": "455813fc-40f2-4ef3-bc05-8f55b99d5bdc",
   "metadata": {},
   "outputs": [
    {
     "name": "stdout",
     "output_type": "stream",
     "text": [
      "rahul sharma\n",
      "sachin sharma\n"
     ]
    }
   ],
   "source": [
    "my_func(\"rahul\")\n",
    "my_func(\"sachin\")"
   ]
  },
  {
   "cell_type": "code",
   "execution_count": 21,
   "id": "4e2af707-a3cd-48f1-909d-436e5504edbb",
   "metadata": {},
   "outputs": [],
   "source": [
    "def my_func(fname,lname):\n",
    "    print(fname+\" \"+lname)"
   ]
  },
  {
   "cell_type": "code",
   "execution_count": 23,
   "id": "21d9f0b6-c359-4b50-a6e3-d2f9aa671fef",
   "metadata": {},
   "outputs": [
    {
     "name": "stdout",
     "output_type": "stream",
     "text": [
      "rahul sachin\n"
     ]
    }
   ],
   "source": [
    "my_func(\"rahul\",\"sachin\")"
   ]
  },
  {
   "cell_type": "markdown",
   "id": "9f505317-46f2-495d-b864-4c7e4cf42cd7",
   "metadata": {},
   "source": [
    "## write a program to calculate the electricity bill"
   ]
  },
  {
   "cell_type": "code",
   "execution_count": 27,
   "id": "43f0db61-7595-40c3-8274-49f30285e364",
   "metadata": {},
   "outputs": [
    {
     "ename": "SyntaxError",
     "evalue": "invalid syntax (2799172823.py, line 1)",
     "output_type": "error",
     "traceback": [
      "\u001b[1;36m  Cell \u001b[1;32mIn[27], line 1\u001b[1;36m\u001b[0m\n\u001b[1;33m    if 500 unit used -pay Rs 5 for each unit\u001b[0m\n\u001b[1;37m           ^\u001b[0m\n\u001b[1;31mSyntaxError\u001b[0m\u001b[1;31m:\u001b[0m invalid syntax\n"
     ]
    }
   ],
   "source": [
    "if 500 unit used -pay Rs 5 for each unit\n",
    "if 700 unit used -pay Rs 10 for each unit\n",
    "if 1000 unit used -pay Rs 15 for each unit\n",
    "if more than 1000 unit used - pay Rs 20 for each unit"
   ]
  },
  {
   "cell_type": "code",
   "execution_count": null,
   "id": "8437eb39-e40c-40c2-98a6-ea02624f60d4",
   "metadata": {},
   "outputs": [],
   "source": [
    "def electricity_bill(n):\n",
    "    if n<=500:\n",
    "        print(\"your bill is Rs\",n*5)\n",
    "    elif n>500 and n<=700:\n",
    "        print(\"your bill is Rs\",n*10)\n",
    "    elif n>700 and n<=1000:\n",
    "        print(\"your bill is Rs\",n*15)\n",
    "    else:\n",
    "        print(\"your bill is Rs\",n*20)"
   ]
  },
  {
   "cell_type": "code",
   "execution_count": null,
   "id": "58d78b50-d675-4b5f-8430-97ad8aa92081",
   "metadata": {},
   "outputs": [],
   "source": [
    "def instructions():\n",
    "    print(\"last date of paying the bill is 20 july\")\n",
    "    print(\" after 20 july you will have to pay a fine\")\n",
    "    print(\"electricity office new delhi\")"
   ]
  },
  {
   "cell_type": "code",
   "execution_count": 47,
   "id": "4badc143-2ea8-415b-b6c7-40487c2df70c",
   "metadata": {},
   "outputs": [
    {
     "name": "stdin",
     "output_type": "stream",
     "text": [
      "Enter the name of the customer s1\n",
      "enter the unit of electricity that you have used 300\n"
     ]
    },
    {
     "ename": "NameError",
     "evalue": "name 'electricity_bill' is not defined",
     "output_type": "error",
     "traceback": [
      "\u001b[1;31m---------------------------------------------------------------------------\u001b[0m",
      "\u001b[1;31mNameError\u001b[0m                                 Traceback (most recent call last)",
      "Cell \u001b[1;32mIn[47], line 4\u001b[0m\n\u001b[0;32m      2\u001b[0m a \u001b[38;5;241m=\u001b[39m \u001b[38;5;28minput\u001b[39m(\u001b[38;5;124m\"\u001b[39m\u001b[38;5;124mEnter the name of the customer\u001b[39m\u001b[38;5;124m\"\u001b[39m)\n\u001b[0;32m      3\u001b[0m n \u001b[38;5;241m=\u001b[39m \u001b[38;5;28mint\u001b[39m(\u001b[38;5;28minput\u001b[39m(\u001b[38;5;124m\"\u001b[39m\u001b[38;5;124menter the unit of electricity that you have used\u001b[39m\u001b[38;5;124m\"\u001b[39m))\n\u001b[1;32m----> 4\u001b[0m electricity_bill(n)\n\u001b[0;32m      5\u001b[0m \u001b[38;5;28mprint\u001b[39m()\n\u001b[0;32m      6\u001b[0m instructions()\n",
      "\u001b[1;31mNameError\u001b[0m: name 'electricity_bill' is not defined"
     ]
    }
   ],
   "source": [
    "for i in range(3):\n",
    "    a = input(\"Enter the name of the customer\")\n",
    "    n = int(input(\"enter the unit of electricity that you have used\"))\n",
    "    electricity_bill(n)\n",
    "    print()\n",
    "    instructions()"
   ]
  },
  {
   "cell_type": "code",
   "execution_count": null,
   "id": "17bd33bb-7963-40cc-8663-ac449254ae54",
   "metadata": {},
   "outputs": [],
   "source": []
  }
 ],
 "metadata": {
  "kernelspec": {
   "display_name": "Python 3 (ipykernel)",
   "language": "python",
   "name": "python3"
  },
  "language_info": {
   "codemirror_mode": {
    "name": "ipython",
    "version": 3
   },
   "file_extension": ".py",
   "mimetype": "text/x-python",
   "name": "python",
   "nbconvert_exporter": "python",
   "pygments_lexer": "ipython3",
   "version": "3.11.7"
  }
 },
 "nbformat": 4,
 "nbformat_minor": 5
}
