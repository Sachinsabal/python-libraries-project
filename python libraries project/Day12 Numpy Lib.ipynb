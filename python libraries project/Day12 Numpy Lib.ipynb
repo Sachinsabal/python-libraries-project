{
 "cells": [
  {
   "cell_type": "markdown",
   "id": "025a68b0-81e2-499b-bf0f-9232a5bdd141",
   "metadata": {},
   "source": [
    "# Day12\n",
    "# Numpy Library"
   ]
  },
  {
   "cell_type": "code",
   "execution_count": 1,
   "id": "b2ea3258-c065-4ecb-88ff-b52476288939",
   "metadata": {},
   "outputs": [
    {
     "name": "stdout",
     "output_type": "stream",
     "text": [
      "[1 2 3 4 5 6]\n",
      "<class 'numpy.ndarray'>\n"
     ]
    }
   ],
   "source": [
    "import numpy as np\n",
    "arr = np.array([1,2,3,4,5,6])\n",
    "print(arr)\n",
    "print(type(arr))"
   ]
  },
  {
   "cell_type": "code",
   "execution_count": 3,
   "id": "d1c16c51-9c9b-40c6-8523-35bcf2b7a61c",
   "metadata": {},
   "outputs": [
    {
     "name": "stdout",
     "output_type": "stream",
     "text": [
      "[1 2 3 4 5 6]\n",
      "<class 'numpy.ndarray'>\n"
     ]
    }
   ],
   "source": [
    "arr = np.array((1,2,3,4,5,6))\n",
    "print(arr)\n",
    "print(type(arr))"
   ]
  },
  {
   "cell_type": "markdown",
   "id": "711fcdd0-5e46-435e-a928-41f4875b9e04",
   "metadata": {},
   "source": [
    "## Dimension in array"
   ]
  },
  {
   "cell_type": "code",
   "execution_count": 6,
   "id": "aa25bbf9-680d-4a13-a3b9-22f13c9c665b",
   "metadata": {},
   "outputs": [
    {
     "name": "stdout",
     "output_type": "stream",
     "text": [
      "69\n",
      "<class 'numpy.ndarray'>\n",
      "0\n"
     ]
    }
   ],
   "source": [
    "arr = np.array(69)\n",
    "print(arr)\n",
    "print(type(arr))\n",
    "print(arr.ndim)\n",
    "               "
   ]
  },
  {
   "cell_type": "markdown",
   "id": "c97055cc-8882-4d85-bb88-750ce4a0dd63",
   "metadata": {},
   "source": [
    "## 1D Array"
   ]
  },
  {
   "cell_type": "code",
   "execution_count": 15,
   "id": "3c496d58-8fbe-42a3-8545-c6d68aa6cbdd",
   "metadata": {},
   "outputs": [
    {
     "name": "stdout",
     "output_type": "stream",
     "text": [
      "[1.2 4.5 6.7 8.9]\n",
      "<class 'numpy.ndarray'>\n",
      "1\n"
     ]
    }
   ],
   "source": [
    "arr = np.array([1.2, 4.5, 6.7, 8.9])\n",
    "print(arr)\n",
    "print(type(arr))\n",
    "print(arr.ndim)"
   ]
  },
  {
   "cell_type": "code",
   "execution_count": 17,
   "id": "81cc1a33-3e3f-4305-9d27-80bc8d114abb",
   "metadata": {},
   "outputs": [
    {
     "ename": "ValueError",
     "evalue": "setting an array element with a sequence. The requested array has an inhomogeneous shape after 1 dimensions. The detected shape was (2,) + inhomogeneous part.",
     "output_type": "error",
     "traceback": [
      "\u001b[1;31m---------------------------------------------------------------------------\u001b[0m",
      "\u001b[1;31mValueError\u001b[0m                                Traceback (most recent call last)",
      "Cell \u001b[1;32mIn[17], line 1\u001b[0m\n\u001b[1;32m----> 1\u001b[0m arr \u001b[38;5;241m=\u001b[39m np\u001b[38;5;241m.\u001b[39marray([[\u001b[38;5;241m1.2\u001b[39m, \u001b[38;5;241m4.5\u001b[39m, \u001b[38;5;241m6.7\u001b[39m, \u001b[38;5;241m8.9\u001b[39m],[\u001b[38;5;241m1\u001b[39m,\u001b[38;5;241m2\u001b[39m,\u001b[38;5;241m3\u001b[39m,\u001b[38;5;241m4\u001b[39m,\u001b[38;5;241m5\u001b[39m,\u001b[38;5;241m6\u001b[39m]])\n\u001b[0;32m      2\u001b[0m \u001b[38;5;28mprint\u001b[39m(arr)\n\u001b[0;32m      3\u001b[0m \u001b[38;5;28mprint\u001b[39m(\u001b[38;5;28mtype\u001b[39m(arr))\n",
      "\u001b[1;31mValueError\u001b[0m: setting an array element with a sequence. The requested array has an inhomogeneous shape after 1 dimensions. The detected shape was (2,) + inhomogeneous part."
     ]
    }
   ],
   "source": [
    "arr = np.array([[1.2, 4.5, 6.7, 8.9],[1,2,3,4,5,6]])\n",
    "print(arr)\n",
    "print(type(arr))\n",
    "print(arr.ndim)"
   ]
  },
  {
   "cell_type": "code",
   "execution_count": 21,
   "id": "75356a5e-661c-42fd-8c0c-2f1199254487",
   "metadata": {},
   "outputs": [
    {
     "ename": "ValueError",
     "evalue": "setting an array element with a sequence. The requested array has an inhomogeneous shape after 1 dimensions. The detected shape was (2,) + inhomogeneous part.",
     "output_type": "error",
     "traceback": [
      "\u001b[1;31m---------------------------------------------------------------------------\u001b[0m",
      "\u001b[1;31mValueError\u001b[0m                                Traceback (most recent call last)",
      "Cell \u001b[1;32mIn[21], line 1\u001b[0m\n\u001b[1;32m----> 1\u001b[0m arr \u001b[38;5;241m=\u001b[39m np\u001b[38;5;241m.\u001b[39marray([[\u001b[38;5;241m12\u001b[39m, \u001b[38;5;241m45\u001b[39m, \u001b[38;5;241m67\u001b[39m, \u001b[38;5;241m89\u001b[39m],[\u001b[38;5;241m1\u001b[39m,\u001b[38;5;241m2\u001b[39m,\u001b[38;5;241m3\u001b[39m,\u001b[38;5;241m4\u001b[39m,\u001b[38;5;241m5\u001b[39m,\u001b[38;5;241m6\u001b[39m]])\n\u001b[0;32m      2\u001b[0m \u001b[38;5;28mprint\u001b[39m(arr)\n",
      "\u001b[1;31mValueError\u001b[0m: setting an array element with a sequence. The requested array has an inhomogeneous shape after 1 dimensions. The detected shape was (2,) + inhomogeneous part."
     ]
    }
   ],
   "source": [
    "arr = np.array([[12, 45, 7, 9],[1,2,3,4]])\n",
    "print(arr)\n"
   ]
  },
  {
   "cell_type": "code",
   "execution_count": 29,
   "id": "a97c3f1c-fad9-440e-85c5-d896f35a7505",
   "metadata": {},
   "outputs": [
    {
     "name": "stdout",
     "output_type": "stream",
     "text": [
      "[[12 45  7  9]\n",
      " [ 1  2  3  4]]\n",
      "<class 'numpy.ndarray'>\n",
      "2\n"
     ]
    }
   ],
   "source": [
    "arr = np.array([[12, 45, 7, 9],[1,2,3,4]])\n",
    "print(arr)\n",
    "print(type(arr))\n",
    "print(arr.ndim)"
   ]
  },
  {
   "cell_type": "code",
   "execution_count": 31,
   "id": "89dddff9-3363-4778-b84a-3fb0110bfc6d",
   "metadata": {},
   "outputs": [
    {
     "name": "stdout",
     "output_type": "stream",
     "text": [
      "[[12.  45.   7.   9. ]\n",
      " [ 1.2  2.3  3.4  4.5]]\n",
      "<class 'numpy.ndarray'>\n",
      "2\n"
     ]
    }
   ],
   "source": [
    "arr = np.array([[12, 45, 7, 9],[1.2,2.3,3.4,4.5]])\n",
    "print(arr)\n",
    "print(type(arr))\n",
    "print(arr.ndim)"
   ]
  },
  {
   "cell_type": "markdown",
   "id": "d698b44a-e6e0-4483-a328-eb804caa7e71",
   "metadata": {},
   "source": [
    "## 3D array"
   ]
  },
  {
   "cell_type": "code",
   "execution_count": 36,
   "id": "188409e9-1a59-405b-9b21-f968bd027526",
   "metadata": {},
   "outputs": [
    {
     "name": "stdout",
     "output_type": "stream",
     "text": [
      "[[[1 5 7 9]\n",
      "  [1 2 3 4]]\n",
      "\n",
      " [[1 2 3 4]\n",
      "  [2 3 4 5]]]\n",
      "<class 'numpy.ndarray'>\n",
      "3\n"
     ]
    }
   ],
   "source": [
    "arr = np.array([[[1, 5, 7, 9],[1,2,3,4]],[[1,2,3,4],[2,3,4,5]]])\n",
    "print(arr)\n",
    "print(type(arr))\n",
    "print(arr.ndim)"
   ]
  },
  {
   "cell_type": "code",
   "execution_count": 71,
   "id": "269bac79-3604-4fdb-9ba9-2f088fc8ccee",
   "metadata": {},
   "outputs": [
    {
     "name": "stdout",
     "output_type": "stream",
     "text": [
      "[[[1 5 7 9]]]\n",
      "<class 'numpy.ndarray'>\n",
      "3\n"
     ]
    }
   ],
   "source": [
    "arr = np.array([[[1, 5, 7, 9]]])\n",
    "print(arr)\n",
    "print(type(arr))\n",
    "print(arr.ndim)"
   ]
  },
  {
   "cell_type": "code",
   "execution_count": 44,
   "id": "55385c87-8bf8-4461-931c-6ff05d1656f2",
   "metadata": {},
   "outputs": [
    {
     "name": "stdout",
     "output_type": "stream",
     "text": [
      "0\n",
      "1\n",
      "2\n",
      "3\n"
     ]
    }
   ],
   "source": [
    "import numpy as np\n",
    "a = np.array(67)\n",
    "b = np.array([1,2,3])\n",
    "c = np.array([[1,3,4],[12,7,9]])\n",
    "d = np.array([[[3,7,6],[8,2,4]],[[4,8,2],[1,4,7]]])\n",
    "print(a.ndim)\n",
    "print(b.ndim)\n",
    "print(c.ndim)\n",
    "print(d.ndim)\n"
   ]
  },
  {
   "cell_type": "code",
   "execution_count": 48,
   "id": "b7dc21de-0702-4074-9757-5799f15cc539",
   "metadata": {},
   "outputs": [
    {
     "name": "stdout",
     "output_type": "stream",
     "text": [
      "[[[[[1 2 3 4]]]]]\n",
      "<class 'numpy.ndarray'>\n",
      "5\n"
     ]
    }
   ],
   "source": [
    "arr = np.array([1,2,3,4],ndmin = 5)\n",
    "print(arr)\n",
    "print(type(arr))\n",
    "print(arr.ndim)\n"
   ]
  },
  {
   "cell_type": "code",
   "execution_count": 50,
   "id": "f103882e-e76e-4567-8742-9ed23ad2e653",
   "metadata": {},
   "outputs": [
    {
     "name": "stdout",
     "output_type": "stream",
     "text": [
      "[[[[[1 2 3 4]]]]]\n",
      "<class 'numpy.ndarray'>\n",
      "5\n"
     ]
    }
   ],
   "source": [
    "arr = np.array([[[[[1,2,3,4]]]]])\n",
    "print(arr)\n",
    "print(type(arr))\n",
    "print(arr.ndim)"
   ]
  },
  {
   "cell_type": "markdown",
   "id": "baf484a6-9e54-49c6-946f-1a717feaf7e8",
   "metadata": {},
   "source": [
    " ## get third, sixth and 8th element from the array"
   ]
  },
  {
   "cell_type": "code",
   "execution_count": 56,
   "id": "9ca9b5e0-d398-4612-9d34-c684f0152721",
   "metadata": {},
   "outputs": [
    {
     "name": "stdout",
     "output_type": "stream",
     "text": [
      "7\n",
      "6\n",
      "8\n"
     ]
    }
   ],
   "source": [
    "arr = np.array([1,3,7,4,5,6,9,8])\n",
    "print(arr[2])\n",
    "print(arr[5])\n",
    "print(arr[7])\n",
    "\n"
   ]
  },
  {
   "cell_type": "code",
   "execution_count": 58,
   "id": "334e087d-8376-4f78-851d-76d1a7aa6ca8",
   "metadata": {},
   "outputs": [
    {
     "name": "stdout",
     "output_type": "stream",
     "text": [
      "3\n"
     ]
    }
   ],
   "source": [
    "arr = np.array([[1,3,7,4],[6,9,8,5]])\n",
    "print(arr[0,1])"
   ]
  },
  {
   "cell_type": "code",
   "execution_count": 60,
   "id": "f3a7e0d5-833f-42e8-8173-0793b51527c8",
   "metadata": {},
   "outputs": [
    {
     "name": "stdout",
     "output_type": "stream",
     "text": [
      "4\n"
     ]
    }
   ],
   "source": [
    "arr = np.array([[1,3,7,4],[6,9,8,5]])\n",
    "print(arr[0,3])\n"
   ]
  },
  {
   "cell_type": "code",
   "execution_count": 62,
   "id": "3111cf52-0787-40b2-9da3-c04c5fb9e87b",
   "metadata": {},
   "outputs": [
    {
     "name": "stdout",
     "output_type": "stream",
     "text": [
      "6\n"
     ]
    }
   ],
   "source": [
    "arr = np.array([[1,3,7,4],[6,9,8,5]])\n",
    "print(arr[1,0])"
   ]
  },
  {
   "cell_type": "code",
   "execution_count": 68,
   "id": "d2f733c6-c0b6-472b-82d8-1d18611b114f",
   "metadata": {},
   "outputs": [
    {
     "name": "stdout",
     "output_type": "stream",
     "text": [
      "1\n",
      "5\n",
      "6\n"
     ]
    }
   ],
   "source": [
    "arr = np.array([[1,3,7,4],[6,9,8,5]])\n",
    "a = print(arr[0,0])\n",
    "b = print(arr[1,3])\n",
    "print(arr[0,0]+arr[1,3])"
   ]
  },
  {
   "cell_type": "markdown",
   "id": "a9e3a140-b432-4081-a138-fd61d294e928",
   "metadata": {},
   "source": [
    "## Access 3D array"
   ]
  },
  {
   "cell_type": "code",
   "execution_count": 73,
   "id": "399324e5-254d-4332-aebc-da78cc05eee0",
   "metadata": {},
   "outputs": [
    {
     "name": "stdout",
     "output_type": "stream",
     "text": [
      "5\n"
     ]
    }
   ],
   "source": [
    "arr = np.array([[[3,7,6],[8,2,4]],[[4,8,2],[1,5,7]]])\n",
    "print(arr[1,1,1])"
   ]
  },
  {
   "cell_type": "code",
   "execution_count": 75,
   "id": "ed4c941e-e087-4821-aa41-aa6c0e88b635",
   "metadata": {},
   "outputs": [
    {
     "name": "stdout",
     "output_type": "stream",
     "text": [
      "32\n"
     ]
    }
   ],
   "source": [
    "arr = np.array([[[3,27,6],[8,32,4]],[[4,9,2],[1,5,7]]])\n",
    "print(arr[0,1,1])\n"
   ]
  },
  {
   "cell_type": "markdown",
   "id": "4a34658c-76fa-499e-9664-f16dd57d6862",
   "metadata": {},
   "source": [
    "# Day 13"
   ]
  },
  {
   "cell_type": "markdown",
   "id": "ee971c86-2790-4705-a103-a87c4eb86db9",
   "metadata": {},
   "source": [
    "## slicing of numpy arrays"
   ]
  },
  {
   "cell_type": "code",
   "execution_count": 78,
   "id": "052d4b6e-1e85-4374-89b2-c480353dcfe7",
   "metadata": {},
   "outputs": [
    {
     "name": "stdout",
     "output_type": "stream",
     "text": [
      "[8 9]\n"
     ]
    }
   ],
   "source": [
    "arr = np.array([4,5,8,9,1,7,3])\n",
    "print(arr[2:4])"
   ]
  },
  {
   "cell_type": "markdown",
   "id": "ce5015ce-c723-4dbf-aa0c-ff09bf7f925c",
   "metadata": {},
   "source": [
    "arr = np.array([4,5,8,9,1,7,3])\n",
    "print(arr[0:1])"
   ]
  },
  {
   "cell_type": "code",
   "execution_count": 84,
   "id": "edf15f37-68fa-4fea-ac9b-d159e38fa3d9",
   "metadata": {},
   "outputs": [
    {
     "name": "stdout",
     "output_type": "stream",
     "text": [
      "[4 8 1 3]\n"
     ]
    }
   ],
   "source": [
    "arr = np.array([4,5,8,9,1,7,3,2])\n",
    "print(arr[::2])"
   ]
  },
  {
   "cell_type": "markdown",
   "id": "11777e92-ee0a-481a-baa3-ebf2fb0ef8ea",
   "metadata": {},
   "source": [
    "## slicing in 2D array"
   ]
  },
  {
   "cell_type": "code",
   "execution_count": 87,
   "id": "c9c8bfd2-f097-46b5-aef1-f1dc1086557d",
   "metadata": {},
   "outputs": [
    {
     "name": "stdout",
     "output_type": "stream",
     "text": [
      "[12  7  9]\n"
     ]
    }
   ],
   "source": [
    "arr = np.array([[1,3,4,9],[12,7,9,45]])\n",
    "print(arr[1,0:3])"
   ]
  },
  {
   "cell_type": "code",
   "execution_count": 89,
   "id": "e57bf916-fe5f-47e6-8e4c-6fa0df03265b",
   "metadata": {},
   "outputs": [
    {
     "name": "stdout",
     "output_type": "stream",
     "text": [
      "[3 4]\n"
     ]
    }
   ],
   "source": [
    "arr = np.array([[1,3,4,9],[12,7,9,45]])\n",
    "print(arr[0,1:3])"
   ]
  },
  {
   "cell_type": "markdown",
   "id": "2b27e1fa-901f-4ad0-8e82-0d696b485a80",
   "metadata": {},
   "source": [
    "## checking the data type of an array"
   ]
  },
  {
   "cell_type": "code",
   "execution_count": 94,
   "id": "b807d6e7-6823-4c71-b64f-8857ba81a87c",
   "metadata": {},
   "outputs": [
    {
     "name": "stdout",
     "output_type": "stream",
     "text": [
      "int32\n"
     ]
    }
   ],
   "source": [
    "arr = np.array([4,5,8,9,1,7,3,2])\n",
    "print(arr.dtype)"
   ]
  },
  {
   "cell_type": "code",
   "execution_count": 96,
   "id": "6ef4eebc-d389-4d53-8d78-c562b7df8d1f",
   "metadata": {},
   "outputs": [
    {
     "name": "stdout",
     "output_type": "stream",
     "text": [
      "<U6\n"
     ]
    }
   ],
   "source": [
    "arr = np.array([\"hello\",\"how\",\"aromco\",\"apple\",\"code\"])\n",
    "print(arr.dtype)"
   ]
  },
  {
   "cell_type": "markdown",
   "id": "ed286150-0b7e-42ae-b8cd-62d06374419d",
   "metadata": {},
   "source": [
    "## creating array with defined data type"
   ]
  },
  {
   "cell_type": "code",
   "execution_count": 101,
   "id": "7d4e3aa7-5896-4f67-8aeb-6f63040bcb22",
   "metadata": {},
   "outputs": [
    {
     "name": "stdout",
     "output_type": "stream",
     "text": [
      "[b'1' b'2' b'3' b'4' b'5']\n",
      "|S1\n"
     ]
    }
   ],
   "source": [
    "arr = np.array([1,2,3,4,5],dtype ='S')\n",
    "print(arr)\n",
    "print(arr.dtype)"
   ]
  },
  {
   "cell_type": "markdown",
   "id": "7c2937cc-3e18-4d37-b473-1a19b81fb2b8",
   "metadata": {},
   "source": [
    "## create an array with data type 4 byte integer"
   ]
  },
  {
   "cell_type": "code",
   "execution_count": 104,
   "id": "526d1163-11f1-49e1-9f4f-bd599f0a0603",
   "metadata": {},
   "outputs": [
    {
     "name": "stdout",
     "output_type": "stream",
     "text": [
      "[1 2 3 4 5]\n",
      "int32\n"
     ]
    }
   ],
   "source": [
    "arr = np.array([1,2,3,4,5],dtype ='i4')\n",
    "print(arr)\n",
    "print(arr.dtype)"
   ]
  },
  {
   "cell_type": "markdown",
   "id": "a4b68a21-0830-417d-ae80-f1df720075e4",
   "metadata": {},
   "source": [
    "# Numpy array shape"
   ]
  },
  {
   "cell_type": "raw",
   "id": "d5bebf29-176d-47e4-840f-00fd100d99f7",
   "metadata": {},
   "source": [
    "the shape of an array is the number of elements in each dimension"
   ]
  },
  {
   "cell_type": "markdown",
   "id": "d393d727-113d-4967-b772-776f2a3b8c23",
   "metadata": {},
   "source": [
    "## print the shape of 2d array"
   ]
  },
  {
   "cell_type": "code",
   "execution_count": 114,
   "id": "fae1da42-e04a-4991-b773-38c6ca2c1300",
   "metadata": {},
   "outputs": [
    {
     "name": "stdout",
     "output_type": "stream",
     "text": [
      "[[ 1  3  4]\n",
      " [12  7  9]]\n",
      "2\n",
      "(2, 3)\n"
     ]
    }
   ],
   "source": [
    "arr = np.array([[1,3,4],[12,7,9]])\n",
    "print(arr)\n",
    "print(arr.ndim)\n",
    "print(arr.shape)"
   ]
  },
  {
   "cell_type": "code",
   "execution_count": 118,
   "id": "8b549eb4-44b4-47ee-8709-a11116351caa",
   "metadata": {},
   "outputs": [
    {
     "name": "stdout",
     "output_type": "stream",
     "text": [
      "[[[ 1  3  4]\n",
      "  [12  7  9]\n",
      "  [12  7  9]]]\n",
      "3\n",
      "(1, 3, 3)\n"
     ]
    }
   ],
   "source": [
    "arr = np.array([[[1,3,4], [12,7,9], [12,7,9]]])\n",
    "print(arr)\n",
    "print(arr.ndim)\n",
    "print(arr.shape)"
   ]
  },
  {
   "cell_type": "markdown",
   "id": "a6247129-545b-45ee-8a14-07e6395fee59",
   "metadata": {},
   "source": [
    "## joining Numpy Array"
   ]
  },
  {
   "cell_type": "code",
   "execution_count": 125,
   "id": "5fec3ab2-9524-4079-8fd8-bc5d7bf9b0ce",
   "metadata": {},
   "outputs": [
    {
     "name": "stdout",
     "output_type": "stream",
     "text": [
      "[4 5 8 9 6 1 3 7]\n"
     ]
    }
   ],
   "source": [
    "arr1 = np.array([4,5,8,9])\n",
    "arr2 = np.array([6,1,3,7])\n",
    "arr = np.concatenate((arr1, arr2))\n",
    "print(arr)"
   ]
  },
  {
   "cell_type": "markdown",
   "id": "c5271282-14ca-45df-839d-54e318b974c1",
   "metadata": {},
   "source": [
    "## joining 2D array"
   ]
  },
  {
   "cell_type": "code",
   "execution_count": 130,
   "id": "f304e2c9-40f0-4f07-94cf-44a6db361766",
   "metadata": {},
   "outputs": [
    {
     "name": "stdout",
     "output_type": "stream",
     "text": [
      "[[4 5 8 6 1 7]\n",
      " [6 1 3 2 7 9]]\n"
     ]
    }
   ],
   "source": [
    "arr1 = np.array([[4,5,8], [6,1,3]])\n",
    "arr2 = np.array([[6,1,7], [2,7,9]])\n",
    "arr = np.concatenate((arr1,arr2),axis=1)\n",
    "print(arr)"
   ]
  },
  {
   "cell_type": "code",
   "execution_count": 132,
   "id": "8e967e5a-b5af-44f2-8e05-56d8293f72b4",
   "metadata": {},
   "outputs": [
    {
     "name": "stdout",
     "output_type": "stream",
     "text": [
      "[[4 5 8]\n",
      " [6 1 3]\n",
      " [6 1 7]\n",
      " [2 7 9]]\n"
     ]
    }
   ],
   "source": [
    "arr1 = np.array([[4,5,8], [6,1,3]])\n",
    "arr2 = np.array([[6,1,7], [2,7,9]])\n",
    "arr = np.concatenate((arr1,arr2),axis=0)\n",
    "print(arr)"
   ]
  },
  {
   "cell_type": "markdown",
   "id": "b787e34f-6e00-4afb-bb8f-b59c3ce8b922",
   "metadata": {},
   "source": [
    "# Splitting Numpy Array"
   ]
  },
  {
   "cell_type": "markdown",
   "id": "8a5e266c-0560-485e-afc3-0606ba6c2520",
   "metadata": {},
   "source": [
    "## splitting into 3 part"
   ]
  },
  {
   "cell_type": "code",
   "execution_count": 138,
   "id": "e91dc943-574a-4002-8a68-079a5deb7870",
   "metadata": {},
   "outputs": [
    {
     "name": "stdout",
     "output_type": "stream",
     "text": [
      "[array([4, 5]), array([8, 6]), array([1, 3])]\n"
     ]
    }
   ],
   "source": [
    "arr = np.array([4,5,8,6,1,3])\n",
    "newarr = np.array_split(arr,3)\n",
    "print(newarr)"
   ]
  },
  {
   "cell_type": "code",
   "execution_count": 140,
   "id": "6aec1d10-5175-43d9-9f16-233e22e34f11",
   "metadata": {},
   "outputs": [
    {
     "name": "stdout",
     "output_type": "stream",
     "text": [
      "[array([4, 5, 8]), array([6, 1, 3])]\n"
     ]
    }
   ],
   "source": [
    "arr = np.array([4,5,8,6,1,3])\n",
    "newarr = np.array_split(arr,2)\n",
    "print(newarr)"
   ]
  },
  {
   "cell_type": "code",
   "execution_count": 142,
   "id": "06f1cae5-2cc6-48dc-877f-ee2000d5ab70",
   "metadata": {},
   "outputs": [
    {
     "name": "stdout",
     "output_type": "stream",
     "text": [
      "[array([4, 5, 8]), array([6, 1])]\n"
     ]
    }
   ],
   "source": [
    "arr = np.array([4,5,8,6,1])\n",
    "newarr = np.array_split(arr,2)\n",
    "print(newarr)"
   ]
  },
  {
   "cell_type": "code",
   "execution_count": 144,
   "id": "59b4a1d0-c4ee-406b-be30-4dc5f61b58bd",
   "metadata": {},
   "outputs": [
    {
     "name": "stdout",
     "output_type": "stream",
     "text": [
      "[array([4, 5]), array([8, 6]), array([1])]\n"
     ]
    }
   ],
   "source": [
    "arr = np.array([4,5,8,6,1])\n",
    "newarr = np.array_split(arr,3)\n",
    "print(newarr)"
   ]
  },
  {
   "cell_type": "markdown",
   "id": "fa46df78-41fa-46a9-9859-056b8d0de7b2",
   "metadata": {},
   "source": [
    "# ravel and flatten"
   ]
  },
  {
   "cell_type": "markdown",
   "id": "22a122a6-d639-41ff-9d32-717eee688671",
   "metadata": {},
   "source": [
    "## convert multidimensional array into 1D array"
   ]
  },
  {
   "cell_type": "code",
   "execution_count": 161,
   "id": "f719a3e5-dffb-44b0-b037-b4a407f35db7",
   "metadata": {},
   "outputs": [
    {
     "name": "stdout",
     "output_type": "stream",
     "text": [
      "[[[4 5 8]\n",
      "  [6 1 3]\n",
      "  [6 1 3]]]\n",
      "old dimension is 3\n",
      "[4 5 8 6 1 3 6 1 3]\n",
      "new dimesion is 1\n"
     ]
    }
   ],
   "source": [
    "arr = np.array([[[4,5,8],[6,1,3],[6, 1, 3]]])\n",
    "print(arr)\n",
    "print(\"old dimension is\", arr.ndim)\n",
    "newarr = arr.ravel()\n",
    "print(newarr)\n",
    "print(\"new dimesion is\", newarr.ndim)"
   ]
  },
  {
   "cell_type": "code",
   "execution_count": 163,
   "id": "e4a8d1d5-e75c-4c35-9a04-a2038defb65e",
   "metadata": {},
   "outputs": [
    {
     "name": "stdout",
     "output_type": "stream",
     "text": [
      "[[[4 5 8]\n",
      "  [6 1 3]\n",
      "  [6 1 3]]]\n",
      "old dimension is 3\n",
      "[4 5 8 6 1 3 6 1 3]\n",
      "new dimesion is 1\n"
     ]
    }
   ],
   "source": [
    "arr = np.array([[[4,5,8],[6,1,3],[6, 1, 3]]])\n",
    "print(arr)\n",
    "print(\"old dimension is\", arr.ndim)\n",
    "newarr = arr.flatten()\n",
    "print(newarr)\n",
    "print(\"new dimesion is\", newarr.ndim)"
   ]
  },
  {
   "cell_type": "code",
   "execution_count": 167,
   "id": "300e82d7-95e5-4729-838b-94aa9b2be31c",
   "metadata": {},
   "outputs": [
    {
     "name": "stdout",
     "output_type": "stream",
     "text": [
      "[[[[4 5 8]\n",
      "   [6 1 3]\n",
      "   [6 1 3]]]]\n",
      "old dimension is 4\n",
      "[4 5 8 6 1 3 6 1 3]\n",
      "new dimension is 1\n"
     ]
    }
   ],
   "source": [
    "arr = np.array([[[[4,5,8],[6,1,3],[6, 1, 3]]]])\n",
    "print(arr)\n",
    "print(\"old dimension is\", arr.ndim)\n",
    "d = arr.ravel()\n",
    "print(d)\n",
    "print(\"new dimension is\", d.ndim)"
   ]
  },
  {
   "cell_type": "code",
   "execution_count": 175,
   "id": "546b3ed3-f478-4c0d-8ee1-cd5f1f0625d6",
   "metadata": {},
   "outputs": [
    {
     "name": "stdout",
     "output_type": "stream",
     "text": [
      "[4 5 8 6 1 2 7 6 3 1 2 3 4 9]\n",
      "[1 2 3 4 5 6 7 8 9]\n"
     ]
    }
   ],
   "source": [
    "arr = np.array([4,5,8,6,1,2,7,6,3,1,2,3,4,9])\n",
    "print(arr)\n",
    "x = np.unique(arr)\n",
    "print(x)"
   ]
  },
  {
   "cell_type": "code",
   "execution_count": 177,
   "id": "1997a804-1be4-4317-ad9c-ded13732b9a9",
   "metadata": {},
   "outputs": [
    {
     "name": "stdout",
     "output_type": "stream",
     "text": [
      "[4 5 8 6 1 2 7 6 3 1 2 3 4 9]\n",
      "(array([1, 2, 3, 4, 5, 6, 7, 8, 9]), array([ 4,  5,  8,  0,  1,  3,  6,  2, 13], dtype=int64))\n"
     ]
    }
   ],
   "source": [
    "arr = np.array([4,5,8,6,1,2,7,6,3,1,2,3,4,9])\n",
    "print(arr)\n",
    "x = np.unique(arr,return_index = True)\n",
    "print(x)"
   ]
  },
  {
   "cell_type": "code",
   "execution_count": 179,
   "id": "5e5b18fd-37c2-466f-a94d-0bb0afd7a334",
   "metadata": {},
   "outputs": [
    {
     "name": "stdout",
     "output_type": "stream",
     "text": [
      "[5 8 6 1 3]\n"
     ]
    }
   ],
   "source": [
    "arr = np.array([4,5,8,6,1,3])\n",
    "x = np.delete(arr,[0])\n",
    "print(x)"
   ]
  },
  {
   "cell_type": "code",
   "execution_count": 181,
   "id": "4cc7a49a-594c-4872-bdf8-728f1f0ef932",
   "metadata": {},
   "outputs": [
    {
     "name": "stdout",
     "output_type": "stream",
     "text": [
      "[4 8 6 1 3]\n"
     ]
    }
   ],
   "source": [
    "arr = np.array([4,5,8,6,1,3])\n",
    "x = np.delete(arr,[1])\n",
    "print(x)"
   ]
  },
  {
   "cell_type": "code",
   "execution_count": 187,
   "id": "3542f5d8-60bc-4bf4-b8c1-07aa89f3c4d8",
   "metadata": {},
   "outputs": [
    {
     "name": "stdout",
     "output_type": "stream",
     "text": [
      "[[4 5 8 6 1 3]\n",
      " [6 3 1 2 3 4]\n",
      " [4 5 8 6 1 2]]\n",
      "2\n",
      "[[6 3 1 2 3 4]\n",
      " [4 5 8 6 1 2]]\n"
     ]
    }
   ],
   "source": [
    "arr = np.array([[4,5,8,6,1,3],[6,3,1,2,3,4],[4,5,8,6,1,2]])\n",
    "print(arr)\n",
    "print(arr.ndim)\n",
    "z = np.delete(arr, 0, axis=0)\n",
    "print(z)\n",
    "\n"
   ]
  },
  {
   "cell_type": "code",
   "execution_count": 189,
   "id": "c282a1d8-fb11-4863-b3a3-f6ec21a7e24e",
   "metadata": {},
   "outputs": [
    {
     "name": "stdout",
     "output_type": "stream",
     "text": [
      "[[4 5 8 6 1 3]\n",
      " [6 3 1 2 3 4]\n",
      " [4 5 8 6 1 2]]\n",
      "2\n",
      "[[4 5 8 6 1 3]\n",
      " [4 5 8 6 1 2]]\n"
     ]
    }
   ],
   "source": [
    "arr = np.array([[4,5,8,6,1,3],[6,3,1,2,3,4],[4,5,8,6,1,2]])\n",
    "print(arr)\n",
    "print(arr.ndim)\n",
    "z = np.delete(arr, 1, axis=0)\n",
    "print(z)"
   ]
  },
  {
   "cell_type": "code",
   "execution_count": 191,
   "id": "dc9b604b-7f8f-4495-b406-6daf4b15eb24",
   "metadata": {},
   "outputs": [
    {
     "name": "stdout",
     "output_type": "stream",
     "text": [
      "[[4 5 8 6 1 3]\n",
      " [6 3 1 2 3 4]\n",
      " [4 5 8 6 1 2]]\n",
      "2\n",
      "[[4 8 6 1 3]\n",
      " [6 1 2 3 4]\n",
      " [4 8 6 1 2]]\n"
     ]
    }
   ],
   "source": [
    "arr = np.array([[4,5,8,6,1,3],[6,3,1,2,3,4],[4,5,8,6,1,2]])\n",
    "print(arr)\n",
    "print(arr.ndim)\n",
    "z = np.delete(arr, 1, axis=1)\n",
    "print(z)"
   ]
  },
  {
   "cell_type": "code",
   "execution_count": null,
   "id": "f41c5e70-adfc-4ef0-b89f-275b8cb8c2b1",
   "metadata": {},
   "outputs": [],
   "source": []
  }
 ],
 "metadata": {
  "kernelspec": {
   "display_name": "Python 3 (ipykernel)",
   "language": "python",
   "name": "python3"
  },
  "language_info": {
   "codemirror_mode": {
    "name": "ipython",
    "version": 3
   },
   "file_extension": ".py",
   "mimetype": "text/x-python",
   "name": "python",
   "nbconvert_exporter": "python",
   "pygments_lexer": "ipython3",
   "version": "3.11.7"
  }
 },
 "nbformat": 4,
 "nbformat_minor": 5
}
